{
  "cells": [
    {
      "cell_type": "markdown",
      "metadata": {
        "id": "view-in-github",
        "colab_type": "text"
      },
      "source": [
        "<a href=\"https://colab.research.google.com/github/zhanninna/Neural-Networks/blob/main/WMA05_s18783.ipynb\" target=\"_parent\"><img src=\"https://colab.research.google.com/assets/colab-badge.svg\" alt=\"Open In Colab\"/></a>"
      ]
    },
    {
      "cell_type": "markdown",
      "metadata": {
        "id": "UpHF-IUi02v1"
      },
      "source": [
        "# Projekt 5: Sieći neuronowe \n",
        "> *S18783*\n",
        "\n"
      ]
    },
    {
      "cell_type": "markdown",
      "metadata": {
        "id": "iXFHRcWSDWOw"
      },
      "source": [
        "For start the network ,firstly in runtime change runtime type set hardware accelerator on TPU\n",
        "Some time u have the message that tpu is auavailable so just wait when it was available and try later"
      ]
    },
    {
      "cell_type": "markdown",
      "metadata": {
        "id": "LHY6xQwC09f-"
      },
      "source": [
        "# 1. *Import of libraries*"
      ]
    },
    {
      "cell_type": "code",
      "execution_count": null,
      "metadata": {
        "id": "4SE-nLO11nQU"
      },
      "outputs": [],
      "source": [
        "import numpy as np\n",
        "import tensorflow as tf\n",
        "import os\n",
        "#import pandas as pd\n",
        "from tensorflow.keras.datasets import cifar10\n",
        "from tensorflow.keras.models import Model\n",
        "from tensorflow.keras.layers import Dense, Flatten, Input\n",
        "from tensorflow.keras.layers import Dropout, BatchNormalization\n",
        "from tensorflow.keras.layers import Conv2D, MaxPooling2D\n",
        "from tensorflow.keras.preprocessing import image\n",
        "from tensorflow import keras\n",
        "from google.colab import files\n",
        "import matplotlib.pyplot as plt\n",
        "%matplotlib inline "
      ]
    },
    {
      "cell_type": "markdown",
      "metadata": {
        "id": "EIj0CU2y3P-0"
      },
      "source": [
        "# 2. Name of classes from datasets\n"
      ]
    },
    {
      "cell_type": "code",
      "execution_count": null,
      "metadata": {
        "id": "vcr6OVrm3hei"
      },
      "outputs": [],
      "source": [
        "classes = np.array(['airplane','automobile','bird','cat','deer','dog','frog','horse','ship','truck'])"
      ]
    },
    {
      "cell_type": "markdown",
      "metadata": {
        "id": "gjoCVrp95NYI"
      },
      "source": [
        "# 3. Downloading data"
      ]
    },
    {
      "cell_type": "code",
      "execution_count": null,
      "metadata": {
        "id": "GjU_x2LK4Cgl"
      },
      "outputs": [],
      "source": [
        "(x_train, y_train), (x_test, y_test) = cifar10.load_data()"
      ]
    },
    {
      "cell_type": "markdown",
      "metadata": {
        "id": "BnT-NZo6FZq5"
      },
      "source": [
        "report the information about test and train sets ,that training batches contains 50000  images and 10000 test images."
      ]
    },
    {
      "cell_type": "code",
      "execution_count": null,
      "metadata": {
        "colab": {
          "base_uri": "https://localhost:8080/"
        },
        "id": "hZtxkL0j4SSv",
        "outputId": "09d7180e-5956-426a-cf9e-009bc54fa812"
      },
      "outputs": [
        {
          "output_type": "stream",
          "name": "stdout",
          "text": [
            "The data dimension of the training set: (50000, 32, 32, 3)\n",
            "The data dimension of the test set: (10000, 32, 32, 3)\n"
          ]
        }
      ],
      "source": [
        "print(f'The data dimension of the training set: {x_train.shape}')\n",
        "print(f'The data dimension of the test set: {x_test.shape}')"
      ]
    },
    {
      "cell_type": "markdown",
      "metadata": {
        "id": "I8RMHX9u4quP"
      },
      "source": [
        "**Example of object**"
      ]
    },
    {
      "cell_type": "code",
      "execution_count": null,
      "metadata": {
        "colab": {
          "base_uri": "https://localhost:8080/",
          "height": 300
        },
        "id": "-qCIiakj4le3",
        "outputId": "1077eb9f-7dd1-434b-f28d-dc87f0f99039"
      },
      "outputs": [
        {
          "output_type": "display_data",
          "data": {
            "text/plain": [
              "<Figure size 432x288 with 1 Axes>"
            ],
            "image/png": "[encoded data removed]"
          },
          "metadata": {
            "needs_background": "light"
          }
        },
        {
          "output_type": "stream",
          "name": "stdout",
          "text": [
            "Number of class: [8]\n",
            "Type of this object: ship\n"
          ]
        }
      ],
      "source": [
        "n = 9545\n",
        "plt.imshow(x_train[n])\n",
        "plt.show()\n",
        "print(\"Number of class:\", y_train[n])\n",
        "print(\"Type of this object:\", classes[y_train[n][0]])"
      ]
    },
    {
      "cell_type": "markdown",
      "metadata": {
        "id": "JgRNBoRH5gkC"
      },
      "source": [
        "**Example of samples**"
      ]
    },
    {
      "cell_type": "code",
      "execution_count": null,
      "metadata": {
        "colab": {
          "base_uri": "https://localhost:8080/",
          "height": 806
        },
        "id": "7rcZe8F25jUC",
        "outputId": "a6a93420-d2b0-4116-bdb8-51f660147a36"
      },
      "outputs": [
        {
          "output_type": "display_data",
          "data": {
            "text/plain": [
              "<Figure size 1008x1008 with 25 Axes>"
            ],
            "image/png": "[encoded data removed]"
          },
          "metadata": {
            "needs_background": "light"
          }
        }
      ],
      "source": [
        "fig = plt.figure(figsize=(14,14))\n",
        "fig.tight_layout(pad=0.8, h_pad=2)\n",
        "for idx in range(25):\n",
        "    ax = fig.add_subplot(5, 5, idx+1)\n",
        "    plt.xticks([])\n",
        "    ax.get_yaxis().set_visible(False)\n",
        "    ax.grid(False)\n",
        "    ax.imshow(x_train[idx], cmap=plt.cm.binary)\n",
        "    ax.set_xlabel([y_train[idx]])\n",
        "plt.show()"
      ]
    },
    {
      "cell_type": "markdown",
      "metadata": {
        "id": "9-UEIb_5I1YD"
      },
      "source": [
        "#4. Model Architecture with data conversion(transformation) \n",
        "*   by using Adam Optimizer\n",
        "have faster computation time, and require fewer parameters for tuning it is easy to implements ,work well with large data sets.\n",
        "*   by using function activation ReLu as advantages Non-Linear and \n",
        "Computationally efficient\n",
        "*  used batch normalization it make neural network faster and stable. The new layer performs the standardizing and normalizing operations on the input of a layer coming from a previous layer. \n",
        "*  dense layer is deeply connected layer from its preceding layer which works for changing the dimension of the output by performing matrix vector multiplication\n",
        "* Downsamples the input along its spatial dimensions (height and width) by taking the maximum value over an input window (of size defined by pool_size) for each channel of the input. The window is shifted by strides along each dimension.\n"
      ]
    },
    {
      "cell_type": "markdown",
      "metadata": {
        "id": "t2UU8IDvjXjx"
      },
      "source": [
        "thsi version for tpu accelerator "
      ]
    },
    {
      "cell_type": "code",
      "execution_count": null,
      "metadata": {
        "id": "4MC5CRWdB5T7"
      },
      "outputs": [],
      "source": [
        "def create_model():\n",
        "    input_layer = Input(shape=(32, 32, 3), dtype=tf.float32, name='Input')\n",
        "    x = BatchNormalization()(input_layer)\n",
        "    x = Conv2D(32, (3, 3), padding='same', activation='relu')(x)\n",
        "    x = Conv2D(32, (3, 3), activation='relu', padding='same')(x)\n",
        "    x = MaxPooling2D(pool_size=(2, 2))(x)\n",
        "    x = Dropout(0.25)(x)\n",
        "    x = BatchNormalization()(x)\n",
        "    x = Conv2D(64, (3, 3), padding='same', activation='relu')(x)\n",
        "    x = Conv2D(64, (3, 3), activation='relu')(x)\n",
        "    x = MaxPooling2D(pool_size=(2, 2))(x)\n",
        "    x = Dropout(0.25)(x)\n",
        "    x = Flatten()(x)\n",
        "    x = Dense(512, activation='relu')(x)\n",
        "    x = Dropout(0.5)(x)\n",
        "    output_layer = Dense(10, activation='softmax')(x)\n",
        "    model = Model(inputs=[input_layer], outputs=[output_layer])\n",
        "    model.compile(\n",
        "        optimizer=tf.compat.v1.train.AdamOptimizer(0.001),\n",
        "        loss=tf.keras.losses.sparse_categorical_crossentropy,\n",
        "        metrics=['sparse_categorical_accuracy'])\n",
        "    return model   "
      ]
    },
    {
      "cell_type": "markdown",
      "metadata": {
        "id": "nRTrjlpNjbF3"
      },
      "source": [
        "this version when accelerator does not work "
      ]
    },
    {
      "cell_type": "code",
      "execution_count": null,
      "metadata": {
        "colab": {
          "base_uri": "https://localhost:8080/"
        },
        "id": "_CZ5VviYgEDN",
        "outputId": "38279c25-cddb-4ff9-a456-940b529b58c8"
      },
      "outputs": [
        {
          "output_type": "stream",
          "name": "stdout",
          "text": [
            "Model: \"my_sequential\"\n",
            "_________________________________________________________________\n",
            " Layer (type)                Output Shape              Param #   \n",
            "=================================================================\n",
            " conv2d_16 (Conv2D)          (None, 32, 32, 32)        896       \n",
            "                                                                 \n",
            " conv2d_17 (Conv2D)          (None, 32, 32, 32)        9248      \n",
            "                                                                 \n",
            " max_pooling2d_8 (MaxPooling  (None, 16, 16, 32)       0         \n",
            " 2D)                                                             \n",
            "                                                                 \n",
            " conv2d_18 (Conv2D)          (None, 16, 16, 64)        8256      \n",
            "                                                                 \n",
            " conv2d_19 (Conv2D)          (None, 16, 16, 64)        16448     \n",
            "                                                                 \n",
            " flatten_4 (Flatten)         (None, 16384)             0         \n",
            "                                                                 \n",
            " dense_8 (Dense)             (None, 100)               1638500   \n",
            "                                                                 \n",
            " dense_9 (Dense)             (None, 10)                1010      \n",
            "                                                                 \n",
            "=================================================================\n",
            "Total params: 1,674,358\n",
            "Trainable params: 1,674,358\n",
            "Non-trainable params: 0\n",
            "_________________________________________________________________\n"
          ]
        }
      ],
      "source": [
        "model = keras.Sequential(name=\"my_sequential\")\n",
        "model.add(Conv2D(32, (3, 3), padding='same', activation='relu', input_shape=(32, 32, 3)))\n",
        "model.add(Conv2D(32, (3, 3), padding='same', activation='relu'))\n",
        "model.add(MaxPooling2D(pool_size=(2,2)))\n",
        "model.add(Conv2D(64, (2, 2), padding='same', activation='relu'))\n",
        "model.add(Conv2D(64, (2, 2), padding='same', activation='relu'))\n",
        "model.add(Flatten())\n",
        "model.add(Dense(100, activation='relu'))\n",
        "model.add(Dense(10, activation = 'softmax'))\n",
        "model.summary()"
      ]
    },
    {
      "cell_type": "code",
      "execution_count": null,
      "metadata": {
        "id": "CX-juHhGLKlQ"
      },
      "outputs": [],
      "source": [
        "cpu_model = create_model()"
      ]
    },
    {
      "cell_type": "code",
      "execution_count": null,
      "metadata": {
        "colab": {
          "base_uri": "https://localhost:8080/",
          "height": 37
        },
        "id": "7WBroJDEMAY7",
        "outputId": "02b6694c-5261-4dc5-b0ed-aca2c2429d61"
      },
      "outputs": [
        {
          "output_type": "execute_result",
          "data": {
            "text/plain": [
              "'grpc://10.69.157.106:8470'"
            ],
            "application/vnd.google.colaboratory.intrinsic+json": {
              "type": "string"
            }
          },
          "metadata": {},
          "execution_count": 57
        }
      ],
      "source": [
        "TPU_WORKER = 'grpc://' + os.environ['COLAB_TPU_ADDR']\n",
        "TPU_WORKER"
      ]
    },
    {
      "cell_type": "markdown",
      "metadata": {
        "id": "ERT3VjWPGx6e"
      },
      "source": [
        "**transformation from keras to tpu**\n",
        "\n",
        "* we transform to tpu cause it can radically reduce the time required to execute a single training step"
      ]
    },
    {
      "cell_type": "code",
      "execution_count": null,
      "metadata": {
        "colab": {
          "base_uri": "https://localhost:8080/"
        },
        "id": "Cq48tCo-MFhn",
        "outputId": "cefd699a-0ad5-4a67-c66d-64f4fabc9fea"
      },
      "outputs": [
        {
          "output_type": "stream",
          "name": "stdout",
          "text": [
            "INFO:tensorflow:Deallocate tpu buffers before initializing tpu system.\n"
          ]
        },
        {
          "output_type": "stream",
          "name": "stderr",
          "text": [
            "INFO:tensorflow:Deallocate tpu buffers before initializing tpu system.\n"
          ]
        },
        {
          "output_type": "stream",
          "name": "stdout",
          "text": [
            "WARNING:tensorflow:TPU system grpc://10.69.157.106:8470 has already been initialized. Reinitializing the TPU can cause previously created variables on TPU to be lost.\n"
          ]
        },
        {
          "output_type": "stream",
          "name": "stderr",
          "text": [
            "WARNING:tensorflow:TPU system grpc://10.69.157.106:8470 has already been initialized. Reinitializing the TPU can cause previously created variables on TPU to be lost.\n"
          ]
        },
        {
          "output_type": "stream",
          "name": "stdout",
          "text": [
            "INFO:tensorflow:Initializing the TPU system: grpc://10.69.157.106:8470\n"
          ]
        },
        {
          "output_type": "stream",
          "name": "stderr",
          "text": [
            "INFO:tensorflow:Initializing the TPU system: grpc://10.69.157.106:8470\n"
          ]
        },
        {
          "output_type": "stream",
          "name": "stdout",
          "text": [
            "INFO:tensorflow:Finished initializing TPU system.\n"
          ]
        },
        {
          "output_type": "stream",
          "name": "stderr",
          "text": [
            "INFO:tensorflow:Finished initializing TPU system.\n",
            "WARNING:absl:`tf.distribute.experimental.TPUStrategy` is deprecated, please use  the non experimental symbol `tf.distribute.TPUStrategy` instead.\n"
          ]
        },
        {
          "output_type": "stream",
          "name": "stdout",
          "text": [
            "INFO:tensorflow:Found TPU system:\n"
          ]
        },
        {
          "output_type": "stream",
          "name": "stderr",
          "text": [
            "INFO:tensorflow:Found TPU system:\n"
          ]
        },
        {
          "output_type": "stream",
          "name": "stdout",
          "text": [
            "INFO:tensorflow:*** Num TPU Cores: 8\n"
          ]
        },
        {
          "output_type": "stream",
          "name": "stderr",
          "text": [
            "INFO:tensorflow:*** Num TPU Cores: 8\n"
          ]
        },
        {
          "output_type": "stream",
          "name": "stdout",
          "text": [
            "INFO:tensorflow:*** Num TPU Workers: 1\n"
          ]
        },
        {
          "output_type": "stream",
          "name": "stderr",
          "text": [
            "INFO:tensorflow:*** Num TPU Workers: 1\n"
          ]
        },
        {
          "output_type": "stream",
          "name": "stdout",
          "text": [
            "INFO:tensorflow:*** Num TPU Cores Per Worker: 8\n"
          ]
        },
        {
          "output_type": "stream",
          "name": "stderr",
          "text": [
            "INFO:tensorflow:*** Num TPU Cores Per Worker: 8\n"
          ]
        },
        {
          "output_type": "stream",
          "name": "stdout",
          "text": [
            "INFO:tensorflow:*** Available Device: _DeviceAttributes(/job:localhost/replica:0/task:0/device:CPU:0, CPU, 0, 0)\n"
          ]
        },
        {
          "output_type": "stream",
          "name": "stderr",
          "text": [
            "INFO:tensorflow:*** Available Device: _DeviceAttributes(/job:localhost/replica:0/task:0/device:CPU:0, CPU, 0, 0)\n"
          ]
        },
        {
          "output_type": "stream",
          "name": "stdout",
          "text": [
            "INFO:tensorflow:*** Available Device: _DeviceAttributes(/job:worker/replica:0/task:0/device:CPU:0, CPU, 0, 0)\n"
          ]
        },
        {
          "output_type": "stream",
          "name": "stderr",
          "text": [
            "INFO:tensorflow:*** Available Device: _DeviceAttributes(/job:worker/replica:0/task:0/device:CPU:0, CPU, 0, 0)\n"
          ]
        },
        {
          "output_type": "stream",
          "name": "stdout",
          "text": [
            "INFO:tensorflow:*** Available Device: _DeviceAttributes(/job:worker/replica:0/task:0/device:TPU:0, TPU, 0, 0)\n"
          ]
        },
        {
          "output_type": "stream",
          "name": "stderr",
          "text": [
            "INFO:tensorflow:*** Available Device: _DeviceAttributes(/job:worker/replica:0/task:0/device:TPU:0, TPU, 0, 0)\n"
          ]
        },
        {
          "output_type": "stream",
          "name": "stdout",
          "text": [
            "INFO:tensorflow:*** Available Device: _DeviceAttributes(/job:worker/replica:0/task:0/device:TPU:1, TPU, 0, 0)\n"
          ]
        },
        {
          "output_type": "stream",
          "name": "stderr",
          "text": [
            "INFO:tensorflow:*** Available Device: _DeviceAttributes(/job:worker/replica:0/task:0/device:TPU:1, TPU, 0, 0)\n"
          ]
        },
        {
          "output_type": "stream",
          "name": "stdout",
          "text": [
            "INFO:tensorflow:*** Available Device: _DeviceAttributes(/job:worker/replica:0/task:0/device:TPU:2, TPU, 0, 0)\n"
          ]
        },
        {
          "output_type": "stream",
          "name": "stderr",
          "text": [
            "INFO:tensorflow:*** Available Device: _DeviceAttributes(/job:worker/replica:0/task:0/device:TPU:2, TPU, 0, 0)\n"
          ]
        },
        {
          "output_type": "stream",
          "name": "stdout",
          "text": [
            "INFO:tensorflow:*** Available Device: _DeviceAttributes(/job:worker/replica:0/task:0/device:TPU:3, TPU, 0, 0)\n"
          ]
        },
        {
          "output_type": "stream",
          "name": "stderr",
          "text": [
            "INFO:tensorflow:*** Available Device: _DeviceAttributes(/job:worker/replica:0/task:0/device:TPU:3, TPU, 0, 0)\n"
          ]
        },
        {
          "output_type": "stream",
          "name": "stdout",
          "text": [
            "INFO:tensorflow:*** Available Device: _DeviceAttributes(/job:worker/replica:0/task:0/device:TPU:4, TPU, 0, 0)\n"
          ]
        },
        {
          "output_type": "stream",
          "name": "stderr",
          "text": [
            "INFO:tensorflow:*** Available Device: _DeviceAttributes(/job:worker/replica:0/task:0/device:TPU:4, TPU, 0, 0)\n"
          ]
        },
        {
          "output_type": "stream",
          "name": "stdout",
          "text": [
            "INFO:tensorflow:*** Available Device: _DeviceAttributes(/job:worker/replica:0/task:0/device:TPU:5, TPU, 0, 0)\n"
          ]
        },
        {
          "output_type": "stream",
          "name": "stderr",
          "text": [
            "INFO:tensorflow:*** Available Device: _DeviceAttributes(/job:worker/replica:0/task:0/device:TPU:5, TPU, 0, 0)\n"
          ]
        },
        {
          "output_type": "stream",
          "name": "stdout",
          "text": [
            "INFO:tensorflow:*** Available Device: _DeviceAttributes(/job:worker/replica:0/task:0/device:TPU:6, TPU, 0, 0)\n"
          ]
        },
        {
          "output_type": "stream",
          "name": "stderr",
          "text": [
            "INFO:tensorflow:*** Available Device: _DeviceAttributes(/job:worker/replica:0/task:0/device:TPU:6, TPU, 0, 0)\n"
          ]
        },
        {
          "output_type": "stream",
          "name": "stdout",
          "text": [
            "INFO:tensorflow:*** Available Device: _DeviceAttributes(/job:worker/replica:0/task:0/device:TPU:7, TPU, 0, 0)\n"
          ]
        },
        {
          "output_type": "stream",
          "name": "stderr",
          "text": [
            "INFO:tensorflow:*** Available Device: _DeviceAttributes(/job:worker/replica:0/task:0/device:TPU:7, TPU, 0, 0)\n"
          ]
        },
        {
          "output_type": "stream",
          "name": "stdout",
          "text": [
            "INFO:tensorflow:*** Available Device: _DeviceAttributes(/job:worker/replica:0/task:0/device:TPU_SYSTEM:0, TPU_SYSTEM, 0, 0)\n"
          ]
        },
        {
          "output_type": "stream",
          "name": "stderr",
          "text": [
            "INFO:tensorflow:*** Available Device: _DeviceAttributes(/job:worker/replica:0/task:0/device:TPU_SYSTEM:0, TPU_SYSTEM, 0, 0)\n"
          ]
        },
        {
          "output_type": "stream",
          "name": "stdout",
          "text": [
            "INFO:tensorflow:*** Available Device: _DeviceAttributes(/job:worker/replica:0/task:0/device:XLA_CPU:0, XLA_CPU, 0, 0)\n"
          ]
        },
        {
          "output_type": "stream",
          "name": "stderr",
          "text": [
            "INFO:tensorflow:*** Available Device: _DeviceAttributes(/job:worker/replica:0/task:0/device:XLA_CPU:0, XLA_CPU, 0, 0)\n"
          ]
        }
      ],
      "source": [
        "resolver = tf.distribute.cluster_resolver.TPUClusterResolver(TPU_WORKER)\n",
        "tf.config.experimental_connect_to_cluster(resolver)\n",
        "tf.tpu.experimental.initialize_tpu_system(resolver)\n",
        "strategy = tf.distribute.experimental.TPUStrategy(resolver)\n"
      ]
    },
    {
      "cell_type": "markdown",
      "metadata": {
        "id": "1aQoZTgdVaUf"
      },
      "source": [
        "# 5. Compiling the model with a distribution strategy\n",
        "* result of this ,the params wich we can train ,all params and params wich we can not use "
      ]
    },
    {
      "cell_type": "markdown",
      "metadata": {
        "id": "c1PjYE6Ij9Nm"
      },
      "source": [
        "this version for tpu "
      ]
    },
    {
      "cell_type": "code",
      "execution_count": null,
      "metadata": {
        "colab": {
          "base_uri": "https://localhost:8080/"
        },
        "id": "ugkOsDNASZd6",
        "outputId": "c03bea46-adf7-4dfb-a2b2-f62dfc87088e"
      },
      "outputs": [
        {
          "output_type": "stream",
          "name": "stdout",
          "text": [
            "Model: \"model_5\"\n",
            "_________________________________________________________________\n",
            " Layer (type)                Output Shape              Param #   \n",
            "=================================================================\n",
            " Input (InputLayer)          [(None, 32, 32, 3)]       0         \n",
            "                                                                 \n",
            " batch_normalization_10 (Bat  (None, 32, 32, 3)        12        \n",
            " chNormalization)                                                \n",
            "                                                                 \n",
            " conv2d_24 (Conv2D)          (None, 32, 32, 32)        896       \n",
            "                                                                 \n",
            " conv2d_25 (Conv2D)          (None, 32, 32, 32)        9248      \n",
            "                                                                 \n",
            " max_pooling2d_11 (MaxPoolin  (None, 16, 16, 32)       0         \n",
            " g2D)                                                            \n",
            "                                                                 \n",
            " dropout_15 (Dropout)        (None, 16, 16, 32)        0         \n",
            "                                                                 \n",
            " batch_normalization_11 (Bat  (None, 16, 16, 32)       128       \n",
            " chNormalization)                                                \n",
            "                                                                 \n",
            " conv2d_26 (Conv2D)          (None, 16, 16, 64)        18496     \n",
            "                                                                 \n",
            " conv2d_27 (Conv2D)          (None, 14, 14, 64)        36928     \n",
            "                                                                 \n",
            " max_pooling2d_12 (MaxPoolin  (None, 7, 7, 64)         0         \n",
            " g2D)                                                            \n",
            "                                                                 \n",
            " dropout_16 (Dropout)        (None, 7, 7, 64)          0         \n",
            "                                                                 \n",
            " flatten_6 (Flatten)         (None, 3136)              0         \n",
            "                                                                 \n",
            " dense_12 (Dense)            (None, 512)               1606144   \n",
            "                                                                 \n",
            " dropout_17 (Dropout)        (None, 512)               0         \n",
            "                                                                 \n",
            " dense_13 (Dense)            (None, 10)                5130      \n",
            "                                                                 \n",
            "=================================================================\n",
            "Total params: 1,676,982\n",
            "Trainable params: 1,676,912\n",
            "Non-trainable params: 70\n",
            "_________________________________________________________________\n"
          ]
        }
      ],
      "source": [
        "with strategy.scope():\n",
        "  model = create_model()\n",
        "\n",
        "  model.compile(optimizer=tf.keras.optimizers.Adagrad(learning_rate=0.1), \n",
        "                loss=tf.keras.losses.sparse_categorical_crossentropy, \n",
        "                metrics=['accuracy'])\n",
        "\n",
        "model.summary()"
      ]
    },
    {
      "cell_type": "markdown",
      "metadata": {
        "id": "-xUdfbwpVw-v"
      },
      "source": [
        "# 6. Train the model \n",
        "* it show us accuracy for our banches and loss\n",
        "we did not use categorical accuracy cause it make the result worse, i trying to use categorical acc but it give us worse result like only 10 per cent"
      ]
    },
    {
      "cell_type": "markdown",
      "metadata": {
        "id": "VtldiT20jSJd"
      },
      "source": [
        "this version for tpu accelerator "
      ]
    },
    {
      "cell_type": "code",
      "execution_count": null,
      "metadata": {
        "colab": {
          "base_uri": "https://localhost:8080/"
        },
        "id": "n5ZyGt8RZpvp",
        "outputId": "30b166e7-6f75-4792-df82-5864bc542906"
      },
      "outputs": [
        {
          "output_type": "stream",
          "name": "stdout",
          "text": [
            "Epoch 1/50\n",
            "25/25 - 8s - loss: 2.3996 - accuracy: 0.1332 - 8s/epoch - 325ms/step\n",
            "Epoch 2/50\n",
            "25/25 - 1s - loss: 2.1716 - accuracy: 0.1940 - 550ms/epoch - 22ms/step\n",
            "Epoch 3/50\n",
            "25/25 - 1s - loss: 2.0826 - accuracy: 0.2291 - 558ms/epoch - 22ms/step\n",
            "Epoch 4/50\n",
            "25/25 - 1s - loss: 1.9405 - accuracy: 0.2831 - 549ms/epoch - 22ms/step\n",
            "Epoch 5/50\n",
            "25/25 - 1s - loss: 1.7926 - accuracy: 0.3465 - 554ms/epoch - 22ms/step\n",
            "Epoch 6/50\n",
            "25/25 - 1s - loss: 1.6702 - accuracy: 0.3866 - 552ms/epoch - 22ms/step\n",
            "Epoch 7/50\n",
            "25/25 - 1s - loss: 1.5941 - accuracy: 0.4144 - 548ms/epoch - 22ms/step\n",
            "Epoch 8/50\n",
            "25/25 - 1s - loss: 1.5443 - accuracy: 0.4384 - 545ms/epoch - 22ms/step\n",
            "Epoch 9/50\n",
            "25/25 - 1s - loss: 1.5134 - accuracy: 0.4535 - 546ms/epoch - 22ms/step\n",
            "Epoch 10/50\n",
            "25/25 - 1s - loss: 1.4430 - accuracy: 0.4780 - 554ms/epoch - 22ms/step\n",
            "Epoch 11/50\n",
            "25/25 - 1s - loss: 1.3928 - accuracy: 0.4958 - 572ms/epoch - 23ms/step\n",
            "Epoch 12/50\n",
            "25/25 - 1s - loss: 1.3453 - accuracy: 0.5156 - 559ms/epoch - 22ms/step\n",
            "Epoch 13/50\n",
            "25/25 - 1s - loss: 1.3174 - accuracy: 0.5284 - 560ms/epoch - 22ms/step\n",
            "Epoch 14/50\n",
            "25/25 - 1s - loss: 1.2666 - accuracy: 0.5468 - 544ms/epoch - 22ms/step\n",
            "Epoch 15/50\n",
            "25/25 - 1s - loss: 1.2615 - accuracy: 0.5499 - 558ms/epoch - 22ms/step\n",
            "Epoch 16/50\n",
            "25/25 - 1s - loss: 1.2114 - accuracy: 0.5675 - 547ms/epoch - 22ms/step\n",
            "Epoch 17/50\n",
            "25/25 - 1s - loss: 1.1724 - accuracy: 0.5786 - 536ms/epoch - 21ms/step\n",
            "Epoch 18/50\n",
            "25/25 - 1s - loss: 1.1464 - accuracy: 0.5914 - 555ms/epoch - 22ms/step\n",
            "Epoch 19/50\n",
            "25/25 - 1s - loss: 1.1157 - accuracy: 0.6021 - 536ms/epoch - 21ms/step\n",
            "Epoch 20/50\n",
            "25/25 - 1s - loss: 1.0986 - accuracy: 0.6107 - 541ms/epoch - 22ms/step\n",
            "Epoch 21/50\n",
            "25/25 - 1s - loss: 1.0673 - accuracy: 0.6200 - 554ms/epoch - 22ms/step\n",
            "Epoch 22/50\n",
            "25/25 - 1s - loss: 1.0438 - accuracy: 0.6312 - 541ms/epoch - 22ms/step\n",
            "Epoch 23/50\n",
            "25/25 - 1s - loss: 1.0153 - accuracy: 0.6396 - 545ms/epoch - 22ms/step\n",
            "Epoch 24/50\n",
            "25/25 - 1s - loss: 1.0020 - accuracy: 0.6453 - 544ms/epoch - 22ms/step\n",
            "Epoch 25/50\n",
            "25/25 - 1s - loss: 0.9829 - accuracy: 0.6500 - 544ms/epoch - 22ms/step\n",
            "Epoch 26/50\n",
            "25/25 - 1s - loss: 0.9698 - accuracy: 0.6564 - 558ms/epoch - 22ms/step\n",
            "Epoch 27/50\n",
            "25/25 - 1s - loss: 0.9564 - accuracy: 0.6613 - 549ms/epoch - 22ms/step\n",
            "Epoch 28/50\n",
            "25/25 - 1s - loss: 0.9258 - accuracy: 0.6723 - 562ms/epoch - 22ms/step\n",
            "Epoch 29/50\n",
            "25/25 - 1s - loss: 0.9177 - accuracy: 0.6724 - 539ms/epoch - 22ms/step\n",
            "Epoch 30/50\n",
            "25/25 - 1s - loss: 0.9030 - accuracy: 0.6793 - 553ms/epoch - 22ms/step\n",
            "Epoch 31/50\n",
            "25/25 - 1s - loss: 0.8928 - accuracy: 0.6859 - 539ms/epoch - 22ms/step\n",
            "Epoch 32/50\n",
            "25/25 - 1s - loss: 0.8706 - accuracy: 0.6937 - 551ms/epoch - 22ms/step\n",
            "Epoch 33/50\n",
            "25/25 - 1s - loss: 0.8684 - accuracy: 0.6946 - 549ms/epoch - 22ms/step\n",
            "Epoch 34/50\n",
            "25/25 - 1s - loss: 0.8470 - accuracy: 0.7002 - 556ms/epoch - 22ms/step\n",
            "Epoch 35/50\n",
            "25/25 - 1s - loss: 0.8255 - accuracy: 0.7087 - 577ms/epoch - 23ms/step\n",
            "Epoch 36/50\n",
            "25/25 - 1s - loss: 0.8308 - accuracy: 0.7049 - 556ms/epoch - 22ms/step\n",
            "Epoch 37/50\n",
            "25/25 - 1s - loss: 0.8092 - accuracy: 0.7153 - 555ms/epoch - 22ms/step\n",
            "Epoch 38/50\n",
            "25/25 - 1s - loss: 0.8054 - accuracy: 0.7158 - 564ms/epoch - 23ms/step\n",
            "Epoch 39/50\n",
            "25/25 - 1s - loss: 0.7714 - accuracy: 0.7266 - 545ms/epoch - 22ms/step\n",
            "Epoch 40/50\n",
            "25/25 - 1s - loss: 0.7784 - accuracy: 0.7259 - 549ms/epoch - 22ms/step\n",
            "Epoch 41/50\n",
            "25/25 - 1s - loss: 0.7655 - accuracy: 0.7267 - 556ms/epoch - 22ms/step\n",
            "Epoch 42/50\n",
            "25/25 - 1s - loss: 0.7544 - accuracy: 0.7306 - 562ms/epoch - 22ms/step\n",
            "Epoch 43/50\n",
            "25/25 - 1s - loss: 0.7515 - accuracy: 0.7340 - 570ms/epoch - 23ms/step\n",
            "Epoch 44/50\n",
            "25/25 - 1s - loss: 0.7571 - accuracy: 0.7317 - 570ms/epoch - 23ms/step\n",
            "Epoch 45/50\n",
            "25/25 - 1s - loss: 0.7145 - accuracy: 0.7491 - 543ms/epoch - 22ms/step\n",
            "Epoch 46/50\n",
            "25/25 - 1s - loss: 0.7123 - accuracy: 0.7492 - 550ms/epoch - 22ms/step\n",
            "Epoch 47/50\n",
            "25/25 - 1s - loss: 0.7017 - accuracy: 0.7525 - 554ms/epoch - 22ms/step\n",
            "Epoch 48/50\n",
            "25/25 - 1s - loss: 0.6898 - accuracy: 0.7541 - 537ms/epoch - 21ms/step\n",
            "Epoch 49/50\n",
            "25/25 - 1s - loss: 0.7180 - accuracy: 0.7444 - 558ms/epoch - 22ms/step\n",
            "Epoch 50/50\n",
            "25/25 - 1s - loss: 0.6835 - accuracy: 0.7587 - 555ms/epoch - 22ms/step\n"
          ]
        }
      ],
      "source": [
        "history = model.fit(x_train, y_train,\n",
        "              batch_size=256*8,\n",
        "              epochs=50,\n",
        "              verbose=2)"
      ]
    },
    {
      "cell_type": "markdown",
      "metadata": {
        "id": "6MUkone_jtrJ"
      },
      "source": [
        "version when tpu is not work but it is so long when we didnt use tpu and worse the results "
      ]
    },
    {
      "cell_type": "code",
      "execution_count": null,
      "metadata": {
        "colab": {
          "base_uri": "https://localhost:8080/"
        },
        "id": "iIL-V0gAh-8D",
        "outputId": "f3b07f6a-ebdf-415c-e187-aa27bccbd7d1"
      },
      "outputs": [
        {
          "output_type": "stream",
          "name": "stdout",
          "text": [
            "Epoch 1/25\n",
            "25/25 [==============================] - 10s 141ms/step - loss: 0.6803 - accuracy: 0.7561\n",
            "Epoch 2/25\n",
            "25/25 [==============================] - 1s 29ms/step - loss: 0.6380 - accuracy: 0.7748\n",
            "Epoch 3/25\n",
            "25/25 [==============================] - 1s 30ms/step - loss: 0.6182 - accuracy: 0.7817\n",
            "Epoch 4/25\n",
            "25/25 [==============================] - 1s 30ms/step - loss: 0.5974 - accuracy: 0.7854\n",
            "Epoch 5/25\n",
            "25/25 [==============================] - 1s 30ms/step - loss: 0.5752 - accuracy: 0.7962\n",
            "Epoch 6/25\n",
            "25/25 [==============================] - 1s 31ms/step - loss: 0.5528 - accuracy: 0.8036\n",
            "Epoch 7/25\n",
            "25/25 [==============================] - 1s 30ms/step - loss: 0.5332 - accuracy: 0.8109\n",
            "Epoch 8/25\n",
            "25/25 [==============================] - 1s 32ms/step - loss: 0.5211 - accuracy: 0.8154\n",
            "Epoch 9/25\n",
            "25/25 [==============================] - 1s 32ms/step - loss: 0.4988 - accuracy: 0.8214\n",
            "Epoch 10/25\n",
            "25/25 [==============================] - 1s 33ms/step - loss: 0.4780 - accuracy: 0.8305\n",
            "Epoch 11/25\n",
            "25/25 [==============================] - 1s 30ms/step - loss: 0.4546 - accuracy: 0.8379\n",
            "Epoch 12/25\n",
            "25/25 [==============================] - 1s 30ms/step - loss: 0.4358 - accuracy: 0.8439\n",
            "Epoch 13/25\n",
            "25/25 [==============================] - 1s 30ms/step - loss: 0.4287 - accuracy: 0.8454\n",
            "Epoch 14/25\n",
            "25/25 [==============================] - 1s 30ms/step - loss: 0.4017 - accuracy: 0.8552\n",
            "Epoch 15/25\n",
            "25/25 [==============================] - 1s 30ms/step - loss: 0.3933 - accuracy: 0.8597\n",
            "Epoch 16/25\n",
            "25/25 [==============================] - 1s 30ms/step - loss: 0.3764 - accuracy: 0.8644\n",
            "Epoch 17/25\n",
            "25/25 [==============================] - 1s 30ms/step - loss: 0.3621 - accuracy: 0.8690\n",
            "Epoch 18/25\n",
            "25/25 [==============================] - 1s 31ms/step - loss: 0.3511 - accuracy: 0.8751\n",
            "Epoch 19/25\n",
            "25/25 [==============================] - 1s 30ms/step - loss: 0.3409 - accuracy: 0.8779\n",
            "Epoch 20/25\n",
            "25/25 [==============================] - 1s 30ms/step - loss: 0.3250 - accuracy: 0.8825\n",
            "Epoch 21/25\n",
            "25/25 [==============================] - 1s 31ms/step - loss: 0.3144 - accuracy: 0.8856\n",
            "Epoch 22/25\n",
            "25/25 [==============================] - 1s 30ms/step - loss: 0.3100 - accuracy: 0.8892\n",
            "Epoch 23/25\n",
            "25/25 [==============================] - 1s 31ms/step - loss: 0.2992 - accuracy: 0.8930\n",
            "Epoch 24/25\n",
            "25/25 [==============================] - 1s 30ms/step - loss: 0.2928 - accuracy: 0.8963\n",
            "Epoch 25/25\n",
            "25/25 [==============================] - 1s 30ms/step - loss: 0.2846 - accuracy: 0.8970\n"
          ]
        }
      ],
      "source": [
        "model.compile(optimizer='adam', loss='sparse_categorical_crossentropy', metrics=['accuracy'])\n",
        "history = model.fit(x_train, y_train, batch_size=256*8, epochs=25)"
      ]
    },
    {
      "cell_type": "markdown",
      "metadata": {
        "id": "dUx3jUA6Lgyp"
      },
      "source": [
        "the general result of loss and acc "
      ]
    },
    {
      "cell_type": "code",
      "execution_count": null,
      "metadata": {
        "colab": {
          "base_uri": "https://localhost:8080/"
        },
        "id": "6Ob1CEpZElBN",
        "outputId": "dceb2566-a16f-483f-a19e-87bfbde960e5"
      },
      "outputs": [
        {
          "output_type": "stream",
          "name": "stdout",
          "text": [
            "313/313 [==============================] - 8s 18ms/step - loss: 0.5979 - accuracy: 0.8144\n"
          ]
        }
      ],
      "source": [
        "\n",
        "test_loss, test_acc = model.evaluate(x_test, y_test)"
      ]
    },
    {
      "cell_type": "markdown",
      "metadata": {
        "id": "R4r8qgRNW8t1"
      },
      "source": [
        "\n",
        "# 7. Ewaluation\n",
        "from 100 per cent it show result of recognition result"
      ]
    },
    {
      "cell_type": "code",
      "execution_count": null,
      "metadata": {
        "colab": {
          "base_uri": "https://localhost:8080/"
        },
        "id": "80vJNYSDXB9M",
        "outputId": "ae911bda-aa8c-4a8f-e52b-737a156437e3"
      },
      "outputs": [
        {
          "output_type": "stream",
          "name": "stdout",
          "text": [
            "percent results classification of recogniton in percent  : 81.43%\n"
          ]
        }
      ],
      "source": [
        "scores = model.evaluate(x_test, y_test, verbose=0, batch_size=256 * 8)\n",
        "print(\"percent results classification of recogniton in percent  : %.2f%%\" % (scores[1]*100))"
      ]
    },
    {
      "cell_type": "markdown",
      "metadata": {
        "id": "RZuJO_t6Xj3O"
      },
      "source": [
        "# 8. Save the model\n",
        "we save the model weights to use it on our network "
      ]
    },
    {
      "cell_type": "code",
      "execution_count": null,
      "metadata": {
        "id": "DfFLrr9qXmnD"
      },
      "outputs": [],
      "source": [
        "model.save_weights(\"cifar10_model.h5\")"
      ]
    },
    {
      "cell_type": "markdown",
      "metadata": {
        "id": "_R9BHgetCE-j"
      },
      "source": [
        "# 9. Example of test data \n",
        "choose another one example for testing is it recognise the object "
      ]
    },
    {
      "cell_type": "code",
      "execution_count": null,
      "metadata": {
        "colab": {
          "base_uri": "https://localhost:8080/",
          "height": 266
        },
        "id": "fbzp0-T8-YSR",
        "outputId": "cb67dcc4-ab9c-40fa-c2ab-73ce4b8687fb"
      },
      "outputs": [
        {
          "output_type": "display_data",
          "data": {
            "text/plain": [
              "<Figure size 432x288 with 1 Axes>"
            ],
            "image/png": "[encoded data removed]"
          },
          "metadata": {
            "needs_background": "light"
          }
        }
      ],
      "source": [
        "index=9545\n",
        "plt.imshow(x_test[index])\n",
        "plt.show()"
      ]
    },
    {
      "cell_type": "markdown",
      "metadata": {
        "id": "gdISw7wvDO0h"
      },
      "source": [
        "# 10. Test image conversion"
      ]
    },
    {
      "cell_type": "code",
      "execution_count": null,
      "metadata": {
        "id": "96qGK1tq_Odb"
      },
      "outputs": [],
      "source": [
        "x = x_test[index]\n",
        "x = np.expand_dims(x, axis=0)"
      ]
    },
    {
      "cell_type": "markdown",
      "metadata": {
        "id": "7BEv4cNrDXhT"
      },
      "source": [
        "# 11. Start recognition"
      ]
    },
    {
      "cell_type": "code",
      "execution_count": null,
      "metadata": {
        "id": "fbTX4SV-_cDd"
      },
      "outputs": [],
      "source": [
        "prediction = model.predict(x)"
      ]
    },
    {
      "cell_type": "markdown",
      "metadata": {
        "id": "3q1GrR4LDedY"
      },
      "source": [
        "# 12. Prediction results"
      ]
    },
    {
      "cell_type": "code",
      "execution_count": null,
      "metadata": {
        "colab": {
          "base_uri": "https://localhost:8080/",
          "height": 334
        },
        "id": "z028Y1AjDohl",
        "outputId": "629237a6-8671-4608-ba59-93fd336065cb"
      },
      "outputs": [
        {
          "output_type": "display_data",
          "data": {
            "text/plain": [
              "<Figure size 432x288 with 1 Axes>"
            ],
            "image/png": "[encoded data removed]"
          },
          "metadata": {
            "needs_background": "light"
          }
        },
        {
          "output_type": "stream",
          "name": "stdout",
          "text": [
            "[[2.1952907e-11 3.3255454e-08 1.4154555e-15 1.4344139e-14 4.9961974e-20\n",
            "  4.8372489e-15 6.3034561e-16 9.5494494e-15 3.3209623e-11 1.0000000e+00]]\n",
            "9\n",
            "truck\n"
          ]
        }
      ],
      "source": [
        "plt.imshow(x[0], cmap=plt.cm.binary)\n",
        "plt.show()\n",
        "print(prediction )\n",
        "print(np.argmax(prediction ))\n",
        "print(classes[np.argmax(prediction)])"
      ]
    },
    {
      "cell_type": "code",
      "execution_count": null,
      "metadata": {
        "colab": {
          "base_uri": "https://localhost:8080/"
        },
        "id": "klVZ405v_Scr",
        "outputId": "57c8f392-8eb5-496a-8403-5dae15992667"
      },
      "outputs": [
        {
          "output_type": "stream",
          "name": "stdout",
          "text": [
            "[[2.1952907e-11 3.3255454e-08 1.4154555e-15 1.4344139e-14 4.9961974e-20\n",
            "  4.8372489e-15 6.3034561e-16 9.5494494e-15 3.3209623e-11 1.0000000e+00]]\n",
            "truck\n"
          ]
        }
      ],
      "source": [
        "print(prediction)\n",
        "prediction = np.argmax(prediction)\n",
        "print(classes[prediction])"
      ]
    }
  ],
  "metadata": {
    "accelerator": "TPU",
    "colab": {
      "collapsed_sections": [],
      "provenance": [],
      "authorship_tag": "ABX9TyM/58XUTYz1Lq9JAWoudsXn",
      "include_colab_link": true
    },
    "kernelspec": {
      "display_name": "Python 3",
      "name": "python3"
    },
    "language_info": {
      "name": "python"
    }
  },
  "nbformat": 4,
  "nbformat_minor": 0
}